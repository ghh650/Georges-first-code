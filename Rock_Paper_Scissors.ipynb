{
  "nbformat": 4,
  "nbformat_minor": 0,
  "metadata": {
    "colab": {
      "provenance": [],
      "authorship_tag": "ABX9TyOeb1KnGS6WcrWL6yiL4Z7P",
      "include_colab_link": true
    },
    "kernelspec": {
      "name": "python3",
      "display_name": "Python 3"
    },
    "language_info": {
      "name": "python"
    }
  },
  "cells": [
    {
      "cell_type": "markdown",
      "metadata": {
        "id": "view-in-github",
        "colab_type": "text"
      },
      "source": [
        "<a href=\"https://colab.research.google.com/github/ghh650/Georges-first-code/blob/main/Rock_Paper_Scissors.ipynb\" target=\"_parent\"><img src=\"https://colab.research.google.com/assets/colab-badge.svg\" alt=\"Open In Colab\"/></a>"
      ]
    },
    {
      "cell_type": "code",
      "execution_count": 1,
      "metadata": {
        "colab": {
          "base_uri": "https://localhost:8080/"
        },
        "collapsed": true,
        "id": "DSHmXQyrMN-U",
        "outputId": "86691b08-766b-4a5f-8618-f254bbdbedd6"
      },
      "outputs": [
        {
          "output_type": "stream",
          "name": "stdout",
          "text": [
            "Hi, Welcome to rock Paper Scissors\n",
            "Please enter your name to play: George\n",
            "How many rounds do you want to play: 3\n",
            "Great, lets get started!\n",
            "Enter r for rock, p for paper or s for scissors: r\n",
            "You went for Rock\n",
            "I went for Rock\n",
            "That's a draw, no points for anyone\n",
            "The score is...\n",
            "0 to George\n",
            "0 to the computer\n",
            "              \n",
            "Enter r for rock, p for paper or s for scissors: r\n",
            "You went for Rock\n",
            "I went for Scissors\n",
            "You win!\n",
            "The score is...\n",
            "1 to George\n",
            "0 to the computer\n",
            "              \n",
            "Enter r for rock, p for paper or s for scissors: r\n",
            "You went for Rock\n",
            "I went for Rock\n",
            "That's a draw, no points for anyone\n",
            "The score is...\n",
            "1 to George\n",
            "0 to the computer\n",
            "              \n",
            "Game over!\n",
            "You win, looks like the human age will last a bit longer\n"
          ]
        }
      ],
      "source": [
        "import random\n",
        "import time\n",
        "\n",
        "options = ('r', 'p', 's')\n",
        "playgame = True\n",
        "cnt = 0\n",
        "myscore = 0\n",
        "yourscore = 0\n",
        "\n",
        "def RPS():\n",
        "    print('Hi, Welcome to rock Paper Scissors')\n",
        "    name = input('Please enter your name to play: ')\n",
        "    global playgame\n",
        "    global myscore\n",
        "    global yourscore\n",
        "    global cnt\n",
        "    while True:\n",
        "        rounds = input('How many rounds do you want to play: ')\n",
        "        if rounds.isdigit():\n",
        "            rounds = int(rounds)\n",
        "            print('Great, lets get started!')\n",
        "            break\n",
        "        else:\n",
        "            print('Please enter a valid number of rounds')\n",
        "    while rounds - cnt > 0:\n",
        "        var = input('Enter r for rock, p for paper or s for scissors: ')\n",
        "        if var == 'r':\n",
        "                    print('You went for Rock')\n",
        "        if var == 'p':\n",
        "                    print('You went for Paper')\n",
        "        if var == 's':\n",
        "                    print('You went for Scissors')\n",
        "        while True:\n",
        "            global options\n",
        "            if var not in options:\n",
        "                print('Enter a valid option!')\n",
        "                var = input('Enter r for rock, p for paper or s for scissors: ')\n",
        "                if var == 'r':\n",
        "                    print('You went for Rock')\n",
        "                if var == 'p':\n",
        "                    print('You went for Paper')\n",
        "                if var == 's':\n",
        "                    print('You went for Scissors')\n",
        "            else:\n",
        "                break\n",
        "        time.sleep(1)\n",
        "        a = random.randint(1,3)\n",
        "        if a == 1:\n",
        "            a = 'r'\n",
        "            print('I went for Rock')\n",
        "        if a == 2:\n",
        "            a = 'p'\n",
        "            print('I went for Paper')\n",
        "        if a == 3:\n",
        "            a = 's'\n",
        "            print('I went for Scissors')\n",
        "        if a == 'r' and var == 'p':\n",
        "            playgame = False\n",
        "        if a == 'r' and var == 's':\n",
        "            playgame = True\n",
        "        if a == 'p' and var == 's':\n",
        "            playgame = False\n",
        "        if a == 'p' and var == 'r':\n",
        "            playgame = True\n",
        "        if a == 's' and var == 'r':\n",
        "            playgame = False\n",
        "        if a == 's' and var == 'p':\n",
        "            playgame = True\n",
        "        if a == var:\n",
        "            playgame = 5\n",
        "        time.sleep(1)\n",
        "        if playgame and var != a:\n",
        "            print('I win!')\n",
        "            myscore += 1\n",
        "        if playgame and var == a:\n",
        "             print(\"That's a draw, no points for anyone\")\n",
        "        if not playgame:\n",
        "            print('You win!')\n",
        "            yourscore += 1\n",
        "        time.sleep(1)\n",
        "        print('The score is...')\n",
        "        time.sleep(1)\n",
        "        print(str(yourscore) + ' to ' + str(name))\n",
        "        time.sleep(1)\n",
        "        print(str(myscore) + ' to the computer')\n",
        "        cnt += 1\n",
        "        print('              ')\n",
        "    time.sleep(1)\n",
        "    print('Game over!')\n",
        "    time.sleep(1)\n",
        "    if yourscore == myscore:\n",
        "        print(\"That's an overall draw, lets play again and decide a true winner\")\n",
        "    if yourscore > myscore:\n",
        "        print(\"You win, looks like the human age will last a bit longer\")\n",
        "    if yourscore < myscore:\n",
        "        print(\"I win, the age of the computer is here!!!\")\n",
        "\n",
        "\n",
        "RPS()"
      ]
    },
    {
      "cell_type": "markdown",
      "source": [
        "This is the first game i coded--> rock paper scissors against the computer\n",
        "\n",
        "---\n",
        "Now transferred it to the notebook\n",
        "\n"
      ],
      "metadata": {
        "id": "TxFwa7zLMulJ"
      }
    },
    {
      "cell_type": "code",
      "source": [
        "print('Im just figuring out how the notebooks system works/ looks like as i wrote this code on visual studio code')"
      ],
      "metadata": {
        "colab": {
          "base_uri": "https://localhost:8080/"
        },
        "id": "_GTVSIwhM3Cp",
        "outputId": "12567b23-d98d-42dc-955d-abaefcb877e8"
      },
      "execution_count": 2,
      "outputs": [
        {
          "output_type": "stream",
          "name": "stdout",
          "text": [
            "Im just figuring out how the notebooks system works/ looks like as i wrote this code on visual studio code\n"
          ]
        }
      ]
    },
    {
      "cell_type": "code",
      "source": [],
      "metadata": {
        "id": "ZQXOe71gM4-x"
      },
      "execution_count": null,
      "outputs": []
    }
  ]
}